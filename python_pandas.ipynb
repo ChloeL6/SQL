{
 "cells": [
  {
   "cell_type": "code",
   "execution_count": 2,
   "metadata": {},
   "outputs": [],
   "source": [
    "from sqlalchemy import create_engine\n",
    "\n",
    "connection_method = \"mysql+pymysql\"\n",
    "db_user = \"root\"\n",
    "db_password = \"mysql\"\n",
    "db_host = \"127.0.0.1\"\n",
    "db_port = 3306\n",
    "db_name = \"lego\"\n",
    "\n",
    "# create a new engine to talk to the database\n",
    "engine = create_engine(f\"{connection_method}://{db_user}:{db_password}@{db_host}/{db_name}\")"
   ]
  },
  {
   "cell_type": "code",
   "execution_count": 3,
   "metadata": {},
   "outputs": [
    {
     "name": "stdout",
     "output_type": "stream",
     "text": [
      "('-1', 'Unknown', '0033B2', 0)\n",
      "('0', 'Black', '05131D', 0)\n",
      "('1', 'Blue', '0055BF', 0)\n"
     ]
    }
   ],
   "source": [
    "from sqlalchemy import text\n",
    "\n",
    "with engine.connect() as conn:\n",
    "    test_conn = conn.execute(text('Select * from colors limit 3'))\n",
    "    for row in test_conn:\n",
    "        print(row)"
   ]
  },
  {
   "cell_type": "code",
   "execution_count": 4,
   "metadata": {},
   "outputs": [
    {
     "name": "stdout",
     "output_type": "stream",
     "text": [
      "        part_num                                               name  \\\n",
      "0        x197bun                 Homemaker Figure Headgear Hair Bun   \n",
      "1           x197               Homemaker Figure Headgear Hair Short   \n",
      "2           x196                Homemaker Figure Headgear Hair Long   \n",
      "3            x17               Scala, Clothes Hair Clip, Round Type   \n",
      "4            x16                            Scala Utensil Hairbrush   \n",
      "..           ...                                                ...   \n",
      "600  10066pr0001          Minifig Hair Orc with Dark Tan Ears Print   \n",
      "601        10066                           Minifig Hair Orc [Plain]   \n",
      "602  10055pr0001  Minifig Hair Long Straight with Light Flesh El...   \n",
      "603        10055   Minifig Hair Long Straight with Elf Ears [Plain]   \n",
      "604        10048                               Minifig Hair Tousled   \n",
      "\n",
      "     part_cat_id  \n",
      "0             13  \n",
      "1             13  \n",
      "2             13  \n",
      "3             42  \n",
      "4             42  \n",
      "..           ...  \n",
      "600           13  \n",
      "601           24  \n",
      "602           27  \n",
      "603           27  \n",
      "604           13  \n",
      "\n",
      "[605 rows x 3 columns]\n"
     ]
    }
   ],
   "source": [
    "import pandas as pd\n",
    "with engine.connect() as conn:\n",
    "    include_hair = pd.read_sql(text(\"select * from parts where name like '%Hair%' order by part_num desc\"), conn)\n",
    "    print(include_hair)"
   ]
  },
  {
   "cell_type": "code",
   "execution_count": 5,
   "metadata": {},
   "outputs": [
    {
     "name": "stdout",
     "output_type": "stream",
     "text": [
      "    id                 name      part_num  \\\n",
      "0   13             Minifigs   10302pr0001   \n",
      "1   13             Minifigs   20613pr0001   \n",
      "2   13             Minifigs   3626bpr0608   \n",
      "3   13             Minifigs   3626bpr0717   \n",
      "4   13             Minifigs   3626bpr0779   \n",
      "5   13             Minifigs   85863pr0062   \n",
      "6   13             Minifigs  973pb0085c01   \n",
      "7   13             Minifigs     973pb0851   \n",
      "8   13             Minifigs  973pr1163c01   \n",
      "9   13             Minifigs  973pr1766c01   \n",
      "10  24                Other         10302   \n",
      "11  24                Other         20613   \n",
      "12  27  Minifig Accessories         42443   \n",
      "\n",
      "                                                 name  part_cat_id  \n",
      "0                      Minifig Head Modified Werewolf           13  \n",
      "1   Minifig Head Modified Werewolf with Smooth Hai...           13  \n",
      "2   Minifig Head with Werewolf Print [Game 3837] [...           13  \n",
      "3   Minifig Head Dual Sided HP Werewolf Fur with G...           13  \n",
      "4   Minifig Head with Werewolf, Orange Eyes and Sh...           13  \n",
      "5                           Microfig Heroica Werewolf           13  \n",
      "6   Torso Studios Plaid Button Shirt Ripped Print ...           13  \n",
      "7   Torso Shirt Tattered with Werewolf Hairy Chest...           13  \n",
      "8   Torso Plaid Button Shirt Print [Werewolf befor...           13  \n",
      "9   Torso Shirt Tattered with Werewolf Hairy Chest...           13  \n",
      "10             Minifig Head Modified Werewolf [Plain]           24  \n",
      "11             Minifig Head Modified Werewolf [Plain]           24  \n",
      "12                       Minifig Head Cover, Werewolf           27  \n"
     ]
    }
   ],
   "source": [
    "with engine.connect() as conn:\n",
    "    join_query = \"\"\"\n",
    "        select *\n",
    "        from part_categories as pc\n",
    "        inner join parts as p\n",
    "        on pc.id = p.part_cat_id\n",
    "        where p.name like \"%Werewolf%\"\n",
    "                \"\"\"\n",
    "    join = pd.read_sql(text(join_query), conn)\n",
    "    print(join)"
   ]
  },
  {
   "cell_type": "code",
   "execution_count": 6,
   "metadata": {},
   "outputs": [
    {
     "name": "stdout",
     "output_type": "stream",
     "text": [
      "                                         name theme_id\n",
      "0                                  Darth Maul      158\n",
      "1                        Black Seas Barracuda      147\n",
      "2    LEGO Star Wars: Build Your Own Adventure      158\n",
      "3                             Imperial Cannon      147\n",
      "4                         Imperial Guard Camp      147\n",
      "..                                        ...      ...\n",
      "256                             MTT Foil Pack      158\n",
      "257                       Palpatine's Shuttle      158\n",
      "258                    TIE Advanced foil pack      158\n",
      "259                         Millennium Falcon      158\n",
      "260                      Poe's X-Wing Fighter      158\n",
      "\n",
      "[261 rows x 2 columns]\n"
     ]
    }
   ],
   "source": [
    "with engine.connect() as conn:\n",
    "  #insert any query from code_review.sql to query\n",
    "  query = \"\"\"\n",
    "      select name, theme_id from sets\n",
    "      where theme_id in (select id from themes\n",
    "                      where name in ('Pirates', 'Star Wars'))\n",
    "          \"\"\"\n",
    "  run_query = pd.read_sql(text(query), conn)\n",
    "  print(run_query)"
   ]
  }
 ],
 "metadata": {
  "kernelspec": {
   "display_name": "venv",
   "language": "python",
   "name": "python3"
  },
  "language_info": {
   "codemirror_mode": {
    "name": "ipython",
    "version": 3
   },
   "file_extension": ".py",
   "mimetype": "text/x-python",
   "name": "python",
   "nbconvert_exporter": "python",
   "pygments_lexer": "ipython3",
   "version": "3.7.15"
  },
  "orig_nbformat": 4,
  "vscode": {
   "interpreter": {
    "hash": "47a14c5e4cbbaf2cf62bcde083eb25d1128797a585b86f206d846b26e11cc0da"
   }
  }
 },
 "nbformat": 4,
 "nbformat_minor": 2
}
