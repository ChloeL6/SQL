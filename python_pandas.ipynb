{
 "cells": [
  {
   "cell_type": "code",
   "execution_count": 1,
   "metadata": {},
   "outputs": [],
   "source": [
    "from sqlalchemy import create_engine\n",
    "\n",
    "connection_method = \"mysql+pymysql\"\n",
    "db_user = \"root\"\n",
    "db_password = \"mysql\"\n",
    "db_host = \"127.0.0.1\"\n",
    "db_port = 3306\n",
    "db_name = \"lego\"\n",
    "\n",
    "# create a new engine to talk to the database\n",
    "engine = create_engine(f\"{connection_method}://{db_user}:{db_password}@{db_host}/{db_name}\")"
   ]
  },
  {
   "cell_type": "code",
   "execution_count": 2,
   "metadata": {},
   "outputs": [
    {
     "name": "stdout",
     "output_type": "stream",
     "text": [
      "('-1', 'Unknown', '0033B2', 0)\n",
      "('0', 'Black', '05131D', 0)\n",
      "('1', 'Blue', '0055BF', 0)\n"
     ]
    }
   ],
   "source": [
    "from sqlalchemy import text\n",
    "\n",
    "with engine.connect() as conn:\n",
    "    test_conn = conn.execute(text('Select * from colors limit 3'))\n",
    "    for row in test_conn:\n",
    "        print(row)"
   ]
  }
 ],
 "metadata": {
  "kernelspec": {
   "display_name": "venv",
   "language": "python",
   "name": "python3"
  },
  "language_info": {
   "codemirror_mode": {
    "name": "ipython",
    "version": 3
   },
   "file_extension": ".py",
   "mimetype": "text/x-python",
   "name": "python",
   "nbconvert_exporter": "python",
   "pygments_lexer": "ipython3",
   "version": "3.7.15"
  },
  "orig_nbformat": 4,
  "vscode": {
   "interpreter": {
    "hash": "47a14c5e4cbbaf2cf62bcde083eb25d1128797a585b86f206d846b26e11cc0da"
   }
  }
 },
 "nbformat": 4,
 "nbformat_minor": 2
}
